{
 "cells": [
  {
   "cell_type": "markdown",
   "metadata": {},
   "source": [
    "# End-Gauge Measurement\n",
    "## Example H1 from the GUM and GUM-Supplement 1\n",
    "\n",
    "The example defines numerous input parameters with different distributions. Instead of converting all the distributions into standard uncertainty, the values can be entered using the distribution shape parameters.\n",
    "Descriptions are also added for each component for display in the report tables.\n",
    "Because each input may have multiple uncertainty components, we'll explicitly enter\n",
    "each component using set_uncert() instead of setting a default uncertainty using set_input().\n",
    "\n",
    "Note: GUM H1 uses all normal/standard distributions for GUM calculation. Supplement 1 describes distribution\n",
    "types for Monte-Carlo."
   ]
  },
  {
   "cell_type": "code",
   "execution_count": 1,
   "metadata": {},
   "outputs": [],
   "source": [
    "import suncal"
   ]
  },
  {
   "cell_type": "code",
   "execution_count": 2,
   "metadata": {},
   "outputs": [
    {
     "data": {
      "text/markdown": [
       "|Function   | Method       | Nominal   | Std. Uncertainty   | 95% Coverage   | k         | Deg. Freedom  |\n",
       "|----------|------------|---------|------------------|--------------|---------|--------------|\n",
       "|$l$   | GUM          | 5.0000839e+07 nm  | 32 nm           | ± 68 nm     | 2.122     | 15.8          |\n",
       "|$l$   | Monte Carlo  | 5.0000839e+07 nm  | 34 nm           | (5.0000772e+07 nm, 5.0000906e+07 nm) | 1.958     | -             |"
      ],
      "text/plain": [
       "|Function   | Method       | Nominal   | Std. Uncertainty   | 95% Coverage   | k         | Deg. Freedom  |\n",
       "|----------|------------|---------|------------------|--------------|---------|--------------|\n",
       "|$l$   | GUM          | 5.0000839e+07 nm  | 32 nm           | ± 68 nm     | 2.122     | 15.8          |\n",
       "|$l$   | Monte Carlo  | 5.0000839e+07 nm  | 34 nm           | (5.0000772e+07 nm, 5.0000906e+07 nm) | 1.958     | -             |"
      ]
     },
     "execution_count": 2,
     "metadata": {},
     "output_type": "execute_result"
    }
   ],
   "source": [
    "u = suncal.UncertCalc('l = d - l_s*(alpha_s*d_theta + d_alpha*theta) + l_s', units='nm')\n",
    "\n",
    "# l_s is given as u=.075 @ k=3\n",
    "u.set_input('l_s', nom=50000623.6, desc='Length of standard at 20C from certificate', units='nm')\n",
    "u.set_uncert('l_s', name='u_{ls}', unc=75, k=3, degf=18, desc='Uncertainty of the standard')\n",
    "\n",
    "# Variable d has 3 uncertainties...\n",
    "u.set_input('d', nom=215, desc='Measured difference between end gauges', units='nm')\n",
    "# First is T-distribution with k=1 uncertainty of 10...\n",
    "u.set_uncert('d', name='u_{d1}', dist='t', unc=10, conf=.95, degf=5, desc='Random effects of comparator')\n",
    "# Normal with k=3...\n",
    "u.set_uncert('d', name='u_{d2}', unc=20, k=3, degf=8, desc='Systematic effects of comparator')\n",
    "# and a standard uncertainty.\n",
    "u.set_uncert('d', name='u_d', std=5.8, degf=24, desc='Repeated obeservations')\n",
    "\n",
    "# theta has 2 uncertainty components.\n",
    "# Arcsine distribution specified with half-width parameter a\n",
    "u.set_input('theta', nom=-0.1, desc='Deviation in temperature of test bed from 20C ambient', units='delta_degC')\n",
    "u.set_uncert('theta', name='u_Delta', dist='arcsine', a=0.5, desc='Cyclic variation of temperature in room')\n",
    "u.set_uncert('theta', name='u_theta', std=0.2, desc='Mean temperature of the bed')\n",
    "\n",
    "# Uniform distribution specified with half-width parameter a\n",
    "u.set_input('alpha_s', nom=1.15E-5, desc='Coefficient of thermal expansion', units='1/delta_degC')\n",
    "u.set_uncert('alpha_s', name='u_{alpha_s}', dist='uniform', a=2E-6, desc='Thermal expansion coefficient of standard')\n",
    "\n",
    "# Curvilinear Trapezoid distribution takes half-width a and curvature d\n",
    "u.set_input('d_alpha', nom=0, desc='Difference in expansion coefficients', units='1/delta_degC')\n",
    "u.set_uncert('d_alpha', name='u_{da}', dist='curvtrap', a=1E-6, d=0.1E-6, degf=50, desc='Difference in expansion coefficients')  # Curvilinear Trapezoid (See GUM-S1)\n",
    "\n",
    "u.set_input('d_theta', nom=0, desc='Difference in temperatures', units='delta_degC')\n",
    "u.set_uncert('d_theta', name='u_{dt}', dist='curvtrap', a=.05, d=.025, degf=2, desc='Difference in temperatures')\n",
    "\n",
    "u.calculate()"
   ]
  },
  {
   "cell_type": "code",
   "execution_count": 3,
   "metadata": {},
   "outputs": [
    {
     "data": {
      "text/markdown": [
       "|Variable   | Mean      | Std. Uncertainty   | Deg. Freedom   | Description                                           |\n",
       "|----------|---------|------------------|--------------|------------------------------------------------------|\n",
       "|$\\alpha_{s}$   | 0.0000115  | 1.2e-06 1/Δ°C           | inf       | Coefficient of thermal expansion                      |\n",
       "|$d$   | 215.0  | 9.7 nm           | 26       | Measured difference between end gauges                |\n",
       "|$d_{\\alpha}$   | 0.0  | 5.8e-07 1/Δ°C           | 50       | Difference in expansion coefficients                  |\n",
       "|$d_{\\theta}$   | 0.0  | 0.030 Δ°C          | 2.0      | Difference in temperatures                            |\n",
       "|$l_{s}$   | 5.0000624e+07 | 25 nm          | 18      | Length of standard at 20C from certificate            |\n",
       "|$\\theta$   | -0.10 | 0.41 Δ°C          | inf      | Deviation in temperature of test bed from 20C ambient |"
      ],
      "text/plain": [
       "<suncal.report.Report at 0x28584e30e88>"
      ]
     },
     "execution_count": 3,
     "metadata": {},
     "output_type": "execute_result"
    }
   ],
   "source": [
    "u.out.report_inputs()"
   ]
  },
  {
   "cell_type": "code",
   "execution_count": 4,
   "metadata": {},
   "outputs": [
    {
     "data": {
      "text/markdown": [
       "|Variable   | Component   | Description                                            | Standard Uncertainty   | Deg. Freedom  |\n",
       "|----------|-----------|------------------------------------------------------|----------------------|--------------|\n",
       "|$\\alpha_{s}$   | -           | Coefficient of thermal expansion                       | 1.2e-06 1/Δ°C               | inf           |\n",
       "|-          | $u_{alpha_s}$    | Thermal expansion coefficient of standard              | 1.2e-06 1/Δ°C               | inf           |\n",
       "|$d$   | -           | Measured difference between end gauges                 | 9.7 nm               | 25.6          |\n",
       "|-          | $u_{d1}$    | Random effects of comparator                           | 3.9 nm               | 5.0           |\n",
       "|-          | $u_{d2}$    | Systematic effects of comparator                       | 6.7 nm               | 8.0           |\n",
       "|-          | $u_{d}$    | Repeated obeservations                                 | 5.8 nm               | 24.0          |\n",
       "|$d_{\\alpha}$   | -           | Difference in expansion coefficients                   | 5.8e-07 1/Δ°C               | 50.0          |\n",
       "|-          | $u_{da}$    | Difference in expansion coefficients                   | 5.8e-07 1/Δ°C               | 50.0          |\n",
       "|$d_{\\theta}$   | -           | Difference in temperatures                             | 0.030 Δ°C               | 2.0           |\n",
       "|-          | $u_{dt}$    | Difference in temperatures                             | 0.030 Δ°C               | 2.0           |\n",
       "|$l_{s}$  | -           | Length of standard at 20C from certificate             | 25 nm              | 18.0          |\n",
       "|-          | $u_{ls}$   | Uncertainty of the standard                            | 25 nm              | 18.0          |\n",
       "|$\\theta$  | -           | Deviation in temperature of test bed from 20C ambient  | 0.41 Δ°C              | inf           |\n",
       "|-          | $u_{\\Delta}$   | Cyclic variation of temperature in room                | 0.35 Δ°C              | inf           |\n",
       "|-          | $u_{\\theta}$   | Mean temperature of the bed                            | 0.20 Δ°C              | inf           |"
      ],
      "text/plain": [
       "<suncal.report.Report at 0x285852b3a88>"
      ]
     },
     "execution_count": 4,
     "metadata": {},
     "output_type": "execute_result"
    }
   ],
   "source": [
    "u.out.report_components()"
   ]
  },
  {
   "cell_type": "code",
   "execution_count": 5,
   "metadata": {},
   "outputs": [
    {
     "data": {
      "text/markdown": [
       "### GUM Approximation\n",
       "\n",
       "\n",
       "|Function   | Interval   | Min       | Max       | k         | Deg. Freedom   | Expanded Uncertainty  |\n",
       "|----------|----------|---------|---------|---------|--------------|----------------------|\n",
       "|$l$   | 99.00%     | 5.0000745e+07 nm  | 5.0000932e+07 nm  | 2.926     | 15.78          | 94 nm              |\n",
       "|-          | 95.00%     | 5.0000771e+07 nm  | 5.0000907e+07 nm  | 2.122     | 15.78          | 68 nm              |\n",
       "|-          | 90.00%     | 5.0000783e+07 nm  | 5.0000895e+07 nm  | 1.747     | 15.78          | 56 nm              |\n",
       "|-          | 68.00%     | 5.0000806e+07 nm  | 5.0000871e+07 nm | 1.027     | 15.78          | 33 nm             |\n",
       "\n",
       "\n",
       "### Monte Carlo\n",
       "\n",
       "Symmetric Coverage Intervals\n",
       "\n",
       "|Function   | Interval   | Min       | Max       | k        |\n",
       "|----------|----------|---------|---------|---------|\n",
       "|$l$   | 99.00%     | 5.0e+07 nm  | 5.0e+07 nm  | 2.570    |\n",
       "|-          | 95.00%     | 5.0e+07 nm  | 5.0e+07 nm  | 1.958    |\n",
       "|-          | 90.00%     | 5.0e+07 nm  | 5.0e+07 nm  | 1.646    |\n",
       "|-          | 68.00%     | 5.0e+07 nm  | 5.0e+07 nm  | 0.996    |"
      ],
      "text/plain": [
       "<suncal.report.Report at 0x285852b9fc8>"
      ]
     },
     "execution_count": 5,
     "metadata": {},
     "output_type": "execute_result"
    }
   ],
   "source": [
    "u.out.report_expanded()"
   ]
  },
  {
   "cell_type": "code",
   "execution_count": 6,
   "metadata": {},
   "outputs": [
    {
     "data": {
      "image/png": "[encoded data removed]",
      "text/plain": [
       "<Figure size 432x288 with 1 Axes>"
      ]
     },
     "metadata": {
      "needs_background": "light"
     },
     "output_type": "display_data"
    }
   ],
   "source": [
    "# Compare to GUM-Supplement1 Figure 17\n",
    "u.out.plot_pdf(intervalsgum=[.95]);"
   ]
  },
  {
   "cell_type": "code",
   "execution_count": null,
   "metadata": {},
   "outputs": [],
   "source": []
  },
  {
   "cell_type": "code",
   "execution_count": 7,
   "metadata": {},
   "outputs": [
    {
     "data": {
      "text/markdown": [
       "### Measurement Model:\n",
       "\n",
       "$l = d - l_{s} \\left(\\alpha_{s} d_{\\theta} + d_{\\alpha} \\theta\\right) + l_{s}$\n",
       "\n",
       "### Measured Values:\n",
       "\n",
       "\n",
       "|Variable   | Std. Uncertainty   | Deg. Freedom  |\n",
       "|----------|------------------|--------------|\n",
       "|$\\alpha_{s} = 1.15 \\cdot 10^{-5}$   | $u_{\\alpha s} = 1.155 \\cdot 10^{-6}\\,\\frac{1}{\\mathrm{ \\Delta ^{\\circ} C}}$           | $\\nu_{\\alpha s} = \\infty$      |\n",
       "|$d = 215.0$   | $u_{d} = 9.655\\,\\mathrm{nm}$           | $\\nu_{d} = 25.57$      |\n",
       "|$d_{\\alpha} = 0$   | $u_{d \\alpha} = 5.783 \\cdot 10^{-7}\\,\\frac{1}{\\mathrm{ \\Delta ^{\\circ} C}}$           | $\\nu_{d \\alpha} = 50.0$      |\n",
       "|$d_{\\theta} = 0$  | $u_{d \\theta} = 0.03005\\,\\mathrm{ \\Delta ^{\\circ} C}$          | $\\nu_{d \\theta} = 2.0$     |\n",
       "|$l_{s} = 5.0 \\cdot 10^{7}$  | $u_{l s} = 25.0\\,\\mathrm{nm}$          | $\\nu_{l s} = 18.0$     |\n",
       "|$\\theta = -0.1$  | $u_{\\theta} = 0.4062\\,\\mathrm{ \\Delta ^{\\circ} C}$          | $\\nu_{\\theta} = \\infty$     |\n",
       "\n",
       "\n",
       "### Sensitivity Coefficients:\n",
       "\n",
       "$\\frac{\\partial}{\\partial \\alpha_{s}} l = - d_{\\theta} l_{s}$  $ = -0.0000$ nm·Δ°C\n",
       "\n",
       "$\\frac{\\partial}{\\partial d} l = 1$  $ = 1.0000$\n",
       "\n",
       "$\\frac{\\partial}{\\partial d_{\\alpha}} l = - l_{s} \\theta$  $ = 5000062.3600$ nm·Δ°C\n",
       "\n",
       "$\\frac{\\partial}{\\partial d_{\\theta}} l = - \\alpha_{s} l_{s}$  $ = -575.0072$ nm/Δ°C\n",
       "\n",
       "$\\frac{\\partial}{\\partial l_{s}} l = - \\alpha_{s} d_{\\theta} - d_{\\alpha} \\theta + 1$  $ = 1.0000$ \n",
       "\n",
       "$\\frac{\\partial}{\\partial \\theta} l = - d_{\\alpha} l_{s}$  $ = -0.0000$ nm/Δ°C\n",
       "\n",
       "### Combined Uncertainty:\n",
       "\n",
       "$u_{l} = \\sqrt{u_{\\alpha s}^{2} \\left(\\frac{\\partial}{\\partial \\alpha_{s}} l\\right)^{2} + u_{d}^{2} \\left(\\frac{\\partial}{\\partial d} l\\right)^{2} + u_{d \\alpha}^{2} \\left(\\frac{\\partial}{\\partial d_{\\alpha}} l\\right)^{2} + u_{d \\theta}^{2} \\left(\\frac{\\partial}{\\partial d_{\\theta}} l\\right)^{2} + u_{l s}^{2} \\left(\\frac{\\partial}{\\partial l_{s}} l\\right)^{2} + u_{\\theta}^{2} \\left(\\frac{\\partial}{\\partial \\theta} l\\right)^{2}}$\n",
       "\n",
       "$u_{l} = \\sqrt{\\alpha_{s}^{2} l_{s}^{2} u_{d \\theta}^{2} + d_{\\alpha}^{2} l_{s}^{2} u_{\\theta}^{2} + d_{\\theta}^{2} l_{s}^{2} u_{\\alpha s}^{2} + l_{s}^{2} \\theta^{2} u_{d \\alpha}^{2} + u_{d}^{2} + u_{l s}^{2} \\left(\\alpha_{s} d_{\\theta} + d_{\\alpha} \\theta - 1\\right)^{2}} = 32.02\\,\\mathrm{nm}$\n",
       "\n",
       "### Effective degrees of freedom:\n",
       "\n",
       "$\\nu_{l} = \\frac{u_{l}^{4}}{\\frac{\\alpha_{s}^{4} l_{s}^{4} u_{d \\theta}^{4}}{\\nu_{d \\theta}} + \\frac{d_{\\alpha}^{4} l_{s}^{4} u_{\\theta}^{4}}{\\nu_{\\theta}} + \\frac{d_{\\theta}^{4} l_{s}^{4} u_{\\alpha s}^{4}}{\\nu_{\\alpha s}} + \\frac{l_{s}^{4} \\theta^{4} u_{d \\alpha}^{4}}{\\nu_{d \\alpha}} + \\frac{u_{l s}^{4} \\left(- \\alpha_{s} d_{\\theta} - d_{\\alpha} \\theta + 1\\right)^{4}}{\\nu_{l s}} + \\frac{u_{d}^{4}}{\\nu_{d}}} = 15.78$"
      ],
      "text/plain": [
       "<suncal.report.Report at 0x2858b1b5208>"
      ]
     },
     "execution_count": 7,
     "metadata": {},
     "output_type": "execute_result"
    }
   ],
   "source": [
    "u.out.gum.report_derivation()"
   ]
  },
  {
   "cell_type": "code",
   "execution_count": null,
   "metadata": {},
   "outputs": [],
   "source": []
  },
  {
   "cell_type": "code",
   "execution_count": null,
   "metadata": {},
   "outputs": [],
   "source": []
  }
 ],
 "metadata": {
  "kernelspec": {
   "display_name": "Python 3",
   "language": "python",
   "name": "python3"
  },
  "language_info": {
   "codemirror_mode": {
    "name": "ipython",
    "version": 3
   },
   "file_extension": ".py",
   "mimetype": "text/x-python",
   "name": "python",
   "nbconvert_exporter": "python",
   "pygments_lexer": "ipython3",
   "version": "3.7.9"
  }
 },
 "nbformat": 4,
 "nbformat_minor": 4
}
