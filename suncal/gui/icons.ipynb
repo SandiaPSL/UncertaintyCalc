{
 "cells": [
  {
   "cell_type": "code",
   "execution_count": 1,
   "metadata": {},
   "outputs": [],
   "source": [
    "import matplotlib.pyplot as plt\n",
    "import matplotlib.transforms as transforms\n",
    "from matplotlib.patches import Arc\n",
    "from matplotlib.patches import FancyBboxPatch\n",
    "import matplotlib.transforms as mtransforms\n",
    "\n",
    "import numpy as np\n",
    "from io import BytesIO\n",
    "import base64\n",
    "\n",
    "%matplotlib inline"
   ]
  },
  {
   "cell_type": "code",
   "execution_count": 2,
   "metadata": {},
   "outputs": [],
   "source": [
    "color = 'orangered'\n",
    "blue = 'royalblue'\n",
    "\n",
    "def makefig(frame=False):\n",
    "    plt.figure(figsize=(1,1), dpi=100)\n",
    "    if not frame:\n",
    "        plt.axis('off');\n",
    "    plt.subplots_adjust(left=0, bottom=0, right=1, top=1)  \n",
    "    \n",
    "def tobase64():\n",
    "    buf = BytesIO()\n",
    "    plt.savefig(buf, format='svg', transparent=True)\n",
    "    fig64 = base64.b64encode(buf.getvalue())\n",
    "    return fig64\n",
    "\n",
    "pngstrings = {}"
   ]
  },
  {
   "cell_type": "code",
   "execution_count": 3,
   "metadata": {},
   "outputs": [
    {
     "data": {
      "image/png": "[encoded data removed]",
      "text/plain": [
       "<matplotlib.figure.Figure at 0x10ec981d0>"
      ]
     },
     "metadata": {},
     "output_type": "display_data"
    }
   ],
   "source": [
    "makefig()\n",
    "x = np.linspace(-4.5,4.5,50)\n",
    "y = np.exp(-x**2/4)\n",
    "plt.plot(x, y, lw=3, color='black')\n",
    "plt.ylim(-.1, 1.4);\n",
    "pngstrings['normal'] = tobase64()"
   ]
  },
  {
   "cell_type": "code",
   "execution_count": 4,
   "metadata": {},
   "outputs": [
    {
     "data": {
      "image/png": "[encoded data removed]",
      "text/plain": [
       "<matplotlib.figure.Figure at 0x10ec985c0>"
      ]
     },
     "metadata": {},
     "output_type": "display_data"
    }
   ],
   "source": [
    "makefig()\n",
    "limit = 1.5\n",
    "\n",
    "x = np.linspace(-4.5,4.5,50)\n",
    "y = np.exp(-x**2/4)\n",
    "plt.plot(x, y, lw=3, color='black')\n",
    "plt.axvline(limit, color='black', lw=2)\n",
    "plt.fill_between(x, y, where=(x>limit), color=color)\n",
    "plt.ylim(-.1, 1.4)\n",
    "pngstrings['risk'] = tobase64()"
   ]
  },
  {
   "cell_type": "code",
   "execution_count": 5,
   "metadata": {},
   "outputs": [
    {
     "data": {
      "image/png": "[encoded data removed]",
      "text/plain": [
       "<matplotlib.figure.Figure at 0x1147a27f0>"
      ]
     },
     "metadata": {},
     "output_type": "display_data"
    }
   ],
   "source": [
    "makefig()\n",
    "np.random.seed(142941)\n",
    "\n",
    "x = np.linspace(.2,1, num=10)\n",
    "y = np.random.normal(loc=x, scale=.2)\n",
    "plt.plot(x, y, marker='o', ls='', color='black', mew=2, markersize=6, mfc='none', mec='black')\n",
    "plt.plot([0, 1], [0, 1], color=color, ls='--', lw=4, zorder=0, dash_capstyle='round');\n",
    "plt.xlim(0,1)\n",
    "plt.ylim(0,1)\n",
    "pngstrings['curvefit'] = tobase64()"
   ]
  },
  {
   "cell_type": "code",
   "execution_count": 6,
   "metadata": {},
   "outputs": [
    {
     "data": {
      "image/png": "[encoded data removed]",
      "text/plain": [
       "<matplotlib.figure.Figure at 0x10ec6dcf8>"
      ]
     },
     "metadata": {},
     "output_type": "display_data"
    }
   ],
   "source": [
    "makefig()\n",
    "np.random.seed(623460)\n",
    "plt.hist(np.random.normal(size=100), bins=7, color=blue, edgecolor='white');\n",
    "pngstrings['histogram'] = tobase64()"
   ]
  },
  {
   "cell_type": "code",
   "execution_count": 7,
   "metadata": {},
   "outputs": [
    {
     "data": {
      "image/png": "[encoded data removed]",
      "text/plain": [
       "<matplotlib.figure.Figure at 0x117d89160>"
      ]
     },
     "metadata": {},
     "output_type": "display_data"
    }
   ],
   "source": [
    "makefig()\n",
    "bot = .1\n",
    "plt.plot([0,1,1,0,0], [bot,bot,1,1,bot], color='black', lw=3)\n",
    "plt.plot([.33, .33], [bot, 1], color='black', lw=3)\n",
    "plt.plot([.66, .66], [bot, 1], color='black', lw=3)\n",
    "plt.plot([0, 1], [.83, .83], color='black', lw=3)\n",
    "\n",
    "plt.plot([.1, .2], [.7, .7], color='black', lw=2)\n",
    "plt.plot([.1, .2], [.55, .55], color='black', lw=2)\n",
    "plt.plot([.1, .2], [.4, .4], color='black', lw=2)\n",
    "plt.plot([.1, .2], [.25, .25], color='black', lw=2)\n",
    "plt.plot([.44, .54], [.7, .7], color='black', lw=2)\n",
    "plt.plot([.44, .54], [.55, .55], color='black', lw=2)\n",
    "plt.plot([.44, .54], [.4, .4], color='black', lw=2)\n",
    "plt.plot([.44, .54], [.25, .25], color='black', lw=2)\n",
    "plt.plot([.78, .88], [.7, .7], color='black', lw=2)\n",
    "plt.plot([.78, .88], [.55, .55], color='black', lw=2)\n",
    "plt.plot([.78, .88], [.4, .4], color='black', lw=2)\n",
    "plt.plot([.78, .88], [.25, .25], color='black', lw=2)\n",
    "plt.ylim(0,1.1)\n",
    "pngstrings['table'] = tobase64()"
   ]
  },
  {
   "cell_type": "code",
   "execution_count": 8,
   "metadata": {},
   "outputs": [
    {
     "data": {
      "image/png": "[encoded data removed]",
      "text/plain": [
       "<matplotlib.figure.Figure at 0x117d697b8>"
      ]
     },
     "metadata": {},
     "output_type": "display_data"
    }
   ],
   "source": [
    "makefig()\n",
    "bot = .1\n",
    "plt.plot([0,1,1,0,0], [bot,bot,1,1,bot], color='black', lw=2, ls=':')\n",
    "plt.plot([.66, .66], [bot, 1], color='black', lw=2, ls=':')\n",
    "plt.plot([.0, 1], [.83, .83], color='black', lw=2, ls=':')\n",
    "\n",
    "plt.plot([.33, .33], [bot, 1], color='black', lw=3)\n",
    "plt.plot([.33, 0, 0, .33], [1, 1, bot, bot], color='black', lw=3)\n",
    "plt.plot([0, .33], [.83, .83], color='black', lw=3)\n",
    "\n",
    "plt.ylim(0,1.1)\n",
    "pngstrings['column'] = tobase64()"
   ]
  },
  {
   "cell_type": "code",
   "execution_count": 9,
   "metadata": {},
   "outputs": [
    {
     "data": {
      "image/png": "[encoded data removed]",
      "text/plain": [
       "<matplotlib.figure.Figure at 0x117ea3978>"
      ]
     },
     "metadata": {},
     "output_type": "display_data"
    }
   ],
   "source": [
    "makefig()\n",
    "plt.gca().add_patch(Arc((.5,.5), width=.4, height=.4, edgecolor='black', facecolor='none', lw=3,\n",
    "    theta1=20, theta2=70))\n",
    "plt.gca().add_patch(Arc((.5,.5), width=.4, height=.4, edgecolor='black', facecolor='none', lw=3,\n",
    "    theta1=110, theta2=160))\n",
    "plt.gca().add_patch(Arc((.5,.5), width=.4, height=.4, edgecolor='black', facecolor='none', lw=3,\n",
    "    theta1=200, theta2=250))\n",
    "plt.gca().add_patch(Arc((.5,.5), width=.4, height=.4, edgecolor='black', facecolor='none', lw=3,\n",
    "    theta1=290, theta2=340))\n",
    "\n",
    "plt.gca().add_patch(Arc((.5,.5), width=.8, height=.8, edgecolor='black', facecolor='none', lw=3,\n",
    "    theta1=15, theta2=75))\n",
    "plt.gca().add_patch(Arc((.5,.5), width=.8, height=.8, edgecolor='black', facecolor='none', lw=3,\n",
    "    theta1=105, theta2=165))\n",
    "plt.gca().add_patch(Arc((.5,.5), width=.8, height=.8, edgecolor='black', facecolor='none', lw=3,\n",
    "    theta1=195, theta2=255))\n",
    "plt.gca().add_patch(Arc((.5,.5), width=.8, height=.8, edgecolor='black', facecolor='none', lw=3,\n",
    "    theta1=285, theta2=345))\n",
    "plt.gca().add_patch(plt.Circle((.5,.5), radius=0.05, edgecolor='black', facecolor='black'))\n",
    "plt.plot([0.5, 0.5], [.65, 1], color='black', lw=3, solid_capstyle='round')\n",
    "plt.plot([0.5, 0.5], [.35, 0], color='black', lw=3, solid_capstyle='round')\n",
    "plt.plot([0, 0.35], [.5, .5], color='black', lw=3, solid_capstyle='round')\n",
    "plt.plot([0.65, 1], [.5, .5], color='black', lw=3, solid_capstyle='round')\n",
    "pngstrings['target'] = tobase64()"
   ]
  },
  {
   "cell_type": "code",
   "execution_count": 10,
   "metadata": {},
   "outputs": [
    {
     "data": {
      "image/png": "[encoded data removed]",
      "text/plain": [
       "<matplotlib.figure.Figure at 0x11491a6d8>"
      ]
     },
     "metadata": {},
     "output_type": "display_data"
    }
   ],
   "source": [
    "makefig()\n",
    "np.random.seed(234234)\n",
    "x = np.arange(0,4)\n",
    "plt.errorbar(x, np.random.normal(x, scale=.4)*.75, yerr=.5, color='black', \n",
    "             lw=2, capthick=2, capsize=0, markersize=12, marker='s', ls='')\n",
    "plt.xlim(-.3,4.1)\n",
    "pngstrings['boxplot'] = tobase64()"
   ]
  },
  {
   "cell_type": "code",
   "execution_count": 11,
   "metadata": {
    "scrolled": true
   },
   "outputs": [
    {
     "data": {
      "image/png": "[encoded data removed]",
      "text/plain": [
       "<matplotlib.figure.Figure at 0x117dd2898>"
      ]
     },
     "metadata": {},
     "output_type": "display_data"
    }
   ],
   "source": [
    "makefig()\n",
    "\n",
    "# Outline\n",
    "plt.plot([0,   .95,  .95,  .12, .12, 0, 0],\n",
    "         [.25, .25, .1, .1, -.25, -0, .25],\n",
    "         lw=3, color='black')\n",
    "\n",
    "# Slider\n",
    "a = np.array([[.25, .25, .35, .5,   .5, .25],\n",
    "             [.12, -.25, .02,  .02, .13, .13]]).transpose()\n",
    "p = plt.Polygon(a, edgecolor='black', lw=3, facecolor='white', zorder=10)\n",
    "\n",
    "# Inner-diameter calipers\n",
    "plt.plot([.05, .05, .16, .27, .27], [.25, .38, .25, .38, .25],\n",
    "        color='black', lw=3)\n",
    "\n",
    "# Ruler ticks\n",
    "plt.plot([.07, .07], [.25, .21], color='black', lw=3)\n",
    "plt.plot([.21, .21], [.25, .21], color='black', lw=3)\n",
    "plt.plot([.35, .35], [.25, .21], color='black', lw=3)\n",
    "plt.plot([.49, .49], [.25, .21], color='black', lw=3)\n",
    "plt.plot([.63, .63], [.25, .21], color='black', lw=3)\n",
    "plt.plot([.77, .77], [.25, .21], color='black', lw=3)\n",
    "plt.gca().add_patch(p)\n",
    "plt.ylim(-.4,.6)\n",
    "\n",
    "pngstrings['calipers'] = tobase64()"
   ]
  },
  {
   "cell_type": "code",
   "execution_count": 12,
   "metadata": {},
   "outputs": [
    {
     "data": {
      "image/png": "[encoded data removed]",
      "text/plain": [
       "<matplotlib.figure.Figure at 0x117dd79b0>"
      ]
     },
     "metadata": {},
     "output_type": "display_data"
    }
   ],
   "source": [
    "makefig()\n",
    "tr = transforms.Affine2D().rotate_deg(45)\n",
    "\n",
    "plt.plot([0, 5, 5, 0, 0], [0, 0, 1, 1, 0], lw=3, color='black', transform=tr + plt.gca().transData)\n",
    "for i in range(1,5):\n",
    "    plt.plot([i, i], [1, .65], color='black', lw=2, transform=tr + plt.gca().transData)\n",
    "for i in np.arange(0.5,5.5):\n",
    "    plt.plot([i, i], [1, .5], color='black', lw=2, transform=tr + plt.gca().transData)\n",
    "pngstrings['ruler'] = tobase64()"
   ]
  },
  {
   "cell_type": "code",
   "execution_count": 13,
   "metadata": {},
   "outputs": [
    {
     "data": {
      "image/png": "[encoded data removed]",
      "text/plain": [
       "<matplotlib.figure.Figure at 0x10ec98e48>"
      ]
     },
     "metadata": {},
     "output_type": "display_data"
    }
   ],
   "source": [
    "makefig()\n",
    "tr = transforms.Affine2D().rotate_deg(45)\n",
    "\n",
    "plt.plot([0, 5, 5, 0, 0], [0, 0, 1, 1, 0], lw=3, color='black', transform=tr + plt.gca().transData)\n",
    "for i in range(1,5):\n",
    "    plt.plot([i, i], [1, .65], color='black', lw=2, transform=tr + plt.gca().transData)\n",
    "for i in np.arange(0.5,5.5):\n",
    "    plt.plot([i, i], [1, .5], color='black', lw=2, transform=tr + plt.gca().transData)\n",
    "    \n",
    "plt.arrow(1.125, 2.35, dx=0, dy=-1.2, lw=2, transform=tr + plt.gca().transData, color=color, capstyle='round', length_includes_head=True, head_width=.35)\n",
    "plt.arrow(2.5, 2.35, dx=0, dy=-1.2, lw=2, transform=tr + plt.gca().transData, color=color, capstyle='round', length_includes_head=True, head_width=.35)\n",
    "plt.arrow(3.875, 2.35, dx=0, dy=-1.2, lw=2, transform=tr + plt.gca().transData, color=color, capstyle='round', length_includes_head=True, head_width=.35)\n",
    "    \n",
    "pngstrings['rulersweep'] = tobase64()"
   ]
  },
  {
   "cell_type": "code",
   "execution_count": 14,
   "metadata": {},
   "outputs": [
    {
     "data": {
      "image/png": "[encoded data removed]",
      "text/plain": [
       "<matplotlib.figure.Figure at 0x10ece34a8>"
      ]
     },
     "metadata": {},
     "output_type": "display_data"
    }
   ],
   "source": [
    "makefig()\n",
    "\n",
    "plt.plot([0],[1], marker='o', mec='black', mfc='none', markersize=16, mew=2)\n",
    "plt.plot([0],[1], marker='o', color='black', markersize=6)\n",
    "plt.plot([0],[1], marker='+', color='black', markersize=22, mew=2)\n",
    "plt.plot([.75, 2], [1,1], color='black', lw=4, solid_capstyle='round')\n",
    "\n",
    "plt.plot([0],[.75], marker='o', mec='black', mfc='none', markersize=16, mew=2)\n",
    "plt.plot([0],[.75], marker='o', color='black', markersize=6)\n",
    "plt.plot([0],[.75], marker='+', color='black', markersize=22, mew=2)\n",
    "plt.plot([.75, 2], [.75,.75], color='black', lw=4, solid_capstyle='round')\n",
    "\n",
    "plt.plot([0],[.5], marker='o', mec='black', mfc='none', markersize=16, mew=2)\n",
    "plt.plot([0],[.5], marker='o', color='black', markersize=6)\n",
    "plt.plot([0],[.5], marker='+', color='black', markersize=22, mew=2)\n",
    "plt.plot([.75, 2], [.5,.5], color='black', lw=4, solid_capstyle='round')\n",
    "\n",
    "plt.xlim(-.5,2.5)\n",
    "plt.ylim(.25, 1.15)\n",
    "pngstrings['targetlist'] = tobase64()"
   ]
  },
  {
   "cell_type": "code",
   "execution_count": 15,
   "metadata": {},
   "outputs": [
    {
     "data": {
      "image/png": "[encoded data removed]",
      "text/plain": [
       "<matplotlib.figure.Figure at 0x10ecb92b0>"
      ]
     },
     "metadata": {},
     "output_type": "display_data"
    }
   ],
   "source": [
    "makefig()\n",
    "plt.plot([0, 0, 6, 8, 8, 0], [0, 10, 10, 8, 0, 0], solid_joinstyle='round', lw=3, color='black')\n",
    "plt.plot([6, 6, 8], [10, 8, 8], lw=3, color='black', solid_joinstyle='round', solid_capstyle='butt')\n",
    "plt.plot([1.5, 6.5], [2,2], color='black', lw=3, solid_capstyle='round')\n",
    "plt.plot([1.5, 6.5], [3.5,3.5], color='black', lw=3, solid_capstyle='round')\n",
    "plt.plot([1.5, 6.5], [5,5], color='black', lw=3, solid_capstyle='round')\n",
    "plt.plot([1.5, 6.5], [6.5,6.5], color='black', lw=3, solid_capstyle='round')\n",
    "\n",
    "plt.xlim(-2,10)\n",
    "plt.ylim(-1,11)\n",
    "pngstrings['report'] = tobase64()"
   ]
  },
  {
   "cell_type": "code",
   "execution_count": 16,
   "metadata": {},
   "outputs": [
    {
     "data": {
      "image/png": "[encoded data removed]",
      "text/plain": [
       "<matplotlib.figure.Figure at 0x117dddc88>"
      ]
     },
     "metadata": {},
     "output_type": "display_data"
    }
   ],
   "source": [
    "makefig()\n",
    "bb = mtransforms.Bbox([[.05,.05], [.7, .8]])\n",
    "p_bbox = FancyBboxPatch((bb.xmin, bb.ymin),\n",
    "                             abs(bb.width), abs(bb.height),\n",
    "                             boxstyle=\"round,pad=0.1\",\n",
    "                            lw=3,\n",
    "                            fc='none',\n",
    "                             ec='black')\n",
    "plt.annotate('', (.2,.45), (1.1, .1),\n",
    "            arrowprops={'arrowstyle':'->', 'lw':4,  'mutation_scale': 30, 'connectionstyle':'angle,angleA=90,angleB=0,rad=10'})\n",
    "plt.xlim(-.1,1.1)\n",
    "plt.ylim(-.1,1.1)\n",
    "plt.gca().add_patch(p_bbox);\n",
    "pngstrings['loaddat'] = tobase64()"
   ]
  },
  {
   "cell_type": "code",
   "execution_count": 17,
   "metadata": {},
   "outputs": [
    {
     "data": {
      "image/png": "[encoded data removed]",
      "text/plain": [
       "<matplotlib.figure.Figure at 0x117ddd470>"
      ]
     },
     "metadata": {},
     "output_type": "display_data"
    }
   ],
   "source": [
    "makefig()\n",
    "bb = mtransforms.Bbox([[.2,.1], [1.5, 2.0]])\n",
    "p_bbox = FancyBboxPatch((bb.xmin, bb.ymin),\n",
    "                             abs(bb.width), abs(bb.height),\n",
    "                             boxstyle=\"round,pad=0.1\",\n",
    "                            lw=3,\n",
    "                            fc='none',\n",
    "                             ec='black')\n",
    "\n",
    "xx = np.linspace(-.8,.8,num=100)\n",
    "yy = np.exp(-(xx**2)*10) + .6\n",
    "plt.plot(xx+2.7,yy, lw=3)\n",
    "plt.arrow(2.05, 1.1, dx=-1, dy=0, lw=2, head_width=.2, facecolor='black')\n",
    "\n",
    "plt.xlim(-.1,3.4)\n",
    "plt.ylim(-.1,2.4)\n",
    "plt.gca().add_patch(p_bbox)\n",
    "pngstrings['loaddist'] = tobase64()"
   ]
  },
  {
   "cell_type": "code",
   "execution_count": 18,
   "metadata": {},
   "outputs": [
    {
     "data": {
      "image/png": "[encoded data removed]",
      "text/plain": [
       "<matplotlib.figure.Figure at 0x114907080>"
      ]
     },
     "metadata": {},
     "output_type": "display_data"
    }
   ],
   "source": [
    "makefig()\n",
    "plt.plot([0,1,2],[0,0,0], marker='o', ls='', markersize=10, color='black')\n",
    "plt.xlim(-.2, 2.2)\n",
    "pngstrings['more'] = tobase64()"
   ]
  },
  {
   "cell_type": "code",
   "execution_count": 19,
   "metadata": {},
   "outputs": [
    {
     "data": {
      "image/png": "[encoded data removed]",
      "text/plain": [
       "<matplotlib.figure.Figure at 0x1147cfef0>"
      ]
     },
     "metadata": {},
     "output_type": "display_data"
    }
   ],
   "source": [
    "makefig()\n",
    "plt.plot(0,0, marker='$+$', ls='', markersize=40, mew=4, color='black')\n",
    "plt.xlim(-.2, .2)\n",
    "pngstrings['add'] = tobase64()"
   ]
  },
  {
   "cell_type": "code",
   "execution_count": 20,
   "metadata": {},
   "outputs": [
    {
     "data": {
      "image/png": "[encoded data removed]",
      "text/plain": [
       "<matplotlib.figure.Figure at 0x11495c9b0>"
      ]
     },
     "metadata": {},
     "output_type": "display_data"
    }
   ],
   "source": [
    "makefig()\n",
    "plt.plot(0,0, marker='$-$', ls='', markersize=40, mew=4, color='black')\n",
    "plt.xlim(-.2, .2)\n",
    "plt.ylim(-.15, .2)\n",
    "pngstrings['remove'] = tobase64()"
   ]
  },
  {
   "cell_type": "code",
   "execution_count": 21,
   "metadata": {},
   "outputs": [
    {
     "data": {
      "image/png": "[encoded data removed]",
      "text/plain": [
       "<matplotlib.figure.Figure at 0x1147f2588>"
      ]
     },
     "metadata": {},
     "output_type": "display_data"
    }
   ],
   "source": [
    "makefig()\n",
    "x = np.linspace(-4.5,4.5,50)\n",
    "y = 0.6 * np.exp(-x**2/6)\n",
    "y2 = np.exp(-(x-.8)**2/.4)\n",
    "plt.plot(x, y, lw=3, color='black')\n",
    "plt.plot(x, y2, lw=3, color=color)\n",
    "\n",
    "plt.ylim(-.1, 1.4);\n",
    "pngstrings['dists'] = tobase64()"
   ]
  },
  {
   "cell_type": "code",
   "execution_count": 22,
   "metadata": {},
   "outputs": [
    {
     "data": {
      "image/png": "[encoded data removed]",
      "text/plain": [
       "<matplotlib.figure.Figure at 0x1148a5c88>"
      ]
     },
     "metadata": {},
     "output_type": "display_data"
    }
   ],
   "source": [
    "makefig()\n",
    "plt.text(0, 0, '?', fontsize=72)\n",
    "plt.ylim(-.1, .5);\n",
    "plt.xlim(-.2, .6);\n",
    "pngstrings['help'] = tobase64()"
   ]
  },
  {
   "cell_type": "code",
   "execution_count": 23,
   "metadata": {},
   "outputs": [
    {
     "data": {
      "image/png": "[encoded data removed]",
      "text/plain": [
       "<matplotlib.figure.Figure at 0x10ecc4080>"
      ]
     },
     "metadata": {},
     "output_type": "display_data"
    }
   ],
   "source": [
    "makefig()\n",
    "plt.plot([0, 0,   2,  2, 6,   6, 8, 8, 8, 0],\n",
    "         [0, 10, 10, 10.7, 10.7, 10, 10, 8, 0, 0],\n",
    "         solid_joinstyle='round', lw=3, color='black')\n",
    "plt.plot([ 2, 2, 6, 6],\n",
    "         [10, 9.3, 9.3, 10], solid_joinstyle='round', lw=3, color='black')\n",
    "#plt.plot([6, 6, 8], [10, 8, 8], lw=3, color='black', solid_joinstyle='round', solid_capstyle='butt')\n",
    "\n",
    "plt.plot([1.5, 6.5], [2,2], color='black', lw=3, solid_capstyle='round')\n",
    "plt.plot([1.5, 6.5], [3.5,3.5], color='black', lw=3, solid_capstyle='round')\n",
    "plt.plot([1.5, 6.5], [5,5], color='black', lw=3, solid_capstyle='round')\n",
    "plt.plot([1.5, 6.5], [6.5,6.5], color='black', lw=3, solid_capstyle='round')\n",
    "\n",
    "plt.xlim(-2,10)\n",
    "plt.ylim(-1,12.5)\n",
    "pngstrings['clipboard'] = tobase64()"
   ]
  },
  {
   "cell_type": "code",
   "execution_count": 32,
   "metadata": {},
   "outputs": [],
   "source": [
    "with open('PSLcal_logo.png', 'rb') as f:\n",
    "    logo = f.read()\n",
    "\n",
    "with open('SNL_Horizontal_Black_Blue.png', 'rb') as f:\n",
    "    logosnl = f.read()\n",
    "    \n",
    "with open('logo.py', 'w') as f:\n",
    "    f.write('# logo.py autogenerated from icons.ipynb. Icon stored in PNG/base64.\\n\\n')\n",
    "    f.write('logo = {}'.format(base64.b64encode(logo)))\n",
    "    f.write('\\n\\n')\n",
    "    f.write('logosnl = {}'.format(base64.b64encode(logosnl)))"
   ]
  },
  {
   "cell_type": "code",
   "execution_count": 33,
   "metadata": {},
   "outputs": [],
   "source": [
    "with open('icons.py', 'w') as f:\n",
    "    f.write('# icons.py autogenerated from icons.ipynb\\n\\n')\n",
    "    for k, v in pngstrings.items():\n",
    "        f.write(\"{} = {}\".format(k, v))\n",
    "        f.write('\\n\\n')"
   ]
  },
  {
   "cell_type": "code",
   "execution_count": null,
   "metadata": {},
   "outputs": [],
   "source": []
  },
  {
   "cell_type": "code",
   "execution_count": null,
   "metadata": {},
   "outputs": [],
   "source": []
  }
 ],
 "metadata": {
  "kernelspec": {
   "display_name": "Python [default]",
   "language": "python",
   "name": "python3"
  },
  "language_info": {
   "codemirror_mode": {
    "name": "ipython",
    "version": 3
   },
   "file_extension": ".py",
   "mimetype": "text/x-python",
   "name": "python",
   "nbconvert_exporter": "python",
   "pygments_lexer": "ipython3",
   "version": "3.5.4"
  }
 },
 "nbformat": 4,
 "nbformat_minor": 2
}
